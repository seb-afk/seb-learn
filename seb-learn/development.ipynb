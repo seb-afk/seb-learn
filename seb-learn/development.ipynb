{
 "nbformat": 4,
 "nbformat_minor": 2,
 "metadata": {
  "language_info": {
   "name": "python",
   "codemirror_mode": {
    "name": "ipython",
    "version": 3
   }
  },
  "orig_nbformat": 2,
  "file_extension": ".py",
  "mimetype": "text/x-python",
  "name": "python",
  "npconvert_exporter": "python",
  "pygments_lexer": "ipython3",
  "version": 3
 },
 "cells": [
  {
   "cell_type": "code",
   "execution_count": 5,
   "metadata": {},
   "outputs": [],
   "source": [
    "import numpy as np\n",
    "\n",
    "def create_design_matrix(n_order, x):\n",
    "    \"\"\"Transforms a feature vector into a design matrix \n",
    "    (nth order polynomial).\n",
    "    \n",
    "    Parameters\n",
    "    ----------\n",
    "    n_order : int\n",
    "        Order of the polynomial.\n",
    "    x : 1-d Numpy array\n",
    "        Feature vector.\n",
    "    \"\"\"\n",
    "    dmatrix = np.empty(shape=(x.shape[0], n_order))\n",
    "    for i in range(len(x)):\n",
    "        for j in range(n_order):\n",
    "            dmatrix[i, j] = x[i] ** (j+1)\n",
    "    return dmatrix"
   ]
  },
  {
   "cell_type": "code",
   "execution_count": 9,
   "metadata": {},
   "outputs": [
    {
     "name": "stdout",
     "output_type": "stream",
     "text": "(3,)\n(3, 5)\n[[  1.   1.   1.   1.   1.]\n [  2.   4.   8.  16.  32.]\n [  3.   9.  27.  81. 243.]]\n"
    }
   ],
   "source": [
    "x = np.array([1,2,3])\n",
    "print(x.shape)\n",
    "xt = create_design_matrix(5,x)\n",
    "print(xt.shape)\n",
    "print(xt)"
   ]
  },
  {
   "cell_type": "code",
   "execution_count": null,
   "metadata": {},
   "outputs": [],
   "source": []
  }
 ]
}